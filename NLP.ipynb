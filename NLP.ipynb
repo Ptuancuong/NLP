{
  "nbformat": 4,
  "nbformat_minor": 0,
  "metadata": {
    "colab": {
      "provenance": [],
      "authorship_tag": "ABX9TyMK1bixQ1tpB4LbV0Vflh+F",
      "include_colab_link": true
    },
    "kernelspec": {
      "name": "python3",
      "display_name": "Python 3"
    },
    "language_info": {
      "name": "python"
    },
    "widgets": {
      "application/vnd.jupyter.widget-state+json": {
        "85cda20b951848fdb1acddd2793d9f67": {
          "model_module": "@jupyter-widgets/controls",
          "model_name": "TextareaModel",
          "model_module_version": "1.5.0",
          "state": {
            "_dom_classes": [],
            "_model_module": "@jupyter-widgets/controls",
            "_model_module_version": "1.5.0",
            "_model_name": "TextareaModel",
            "_view_count": null,
            "_view_module": "@jupyter-widgets/controls",
            "_view_module_version": "1.5.0",
            "_view_name": "TextareaView",
            "continuous_update": true,
            "description": "Văn bản:",
            "description_tooltip": null,
            "disabled": false,
            "layout": "IPY_MODEL_a1610a28c4cd4db1b98812acf4c8be0f",
            "placeholder": "Nhập văn bản để phân loại...",
            "rows": null,
            "style": "IPY_MODEL_9ced32953a084aba9a464caf05419267",
            "value": "chơi tennis"
          }
        },
        "a1610a28c4cd4db1b98812acf4c8be0f": {
          "model_module": "@jupyter-widgets/base",
          "model_name": "LayoutModel",
          "model_module_version": "1.2.0",
          "state": {
            "_model_module": "@jupyter-widgets/base",
            "_model_module_version": "1.2.0",
            "_model_name": "LayoutModel",
            "_view_count": null,
            "_view_module": "@jupyter-widgets/base",
            "_view_module_version": "1.2.0",
            "_view_name": "LayoutView",
            "align_content": null,
            "align_items": null,
            "align_self": null,
            "border": null,
            "bottom": null,
            "display": null,
            "flex": null,
            "flex_flow": null,
            "grid_area": null,
            "grid_auto_columns": null,
            "grid_auto_flow": null,
            "grid_auto_rows": null,
            "grid_column": null,
            "grid_gap": null,
            "grid_row": null,
            "grid_template_areas": null,
            "grid_template_columns": null,
            "grid_template_rows": null,
            "height": "100px",
            "justify_content": null,
            "justify_items": null,
            "left": null,
            "margin": null,
            "max_height": null,
            "max_width": null,
            "min_height": null,
            "min_width": null,
            "object_fit": null,
            "object_position": null,
            "order": null,
            "overflow": null,
            "overflow_x": null,
            "overflow_y": null,
            "padding": null,
            "right": null,
            "top": null,
            "visibility": null,
            "width": "80%"
          }
        },
        "9ced32953a084aba9a464caf05419267": {
          "model_module": "@jupyter-widgets/controls",
          "model_name": "DescriptionStyleModel",
          "model_module_version": "1.5.0",
          "state": {
            "_model_module": "@jupyter-widgets/controls",
            "_model_module_version": "1.5.0",
            "_model_name": "DescriptionStyleModel",
            "_view_count": null,
            "_view_module": "@jupyter-widgets/base",
            "_view_module_version": "1.2.0",
            "_view_name": "StyleView",
            "description_width": ""
          }
        },
        "d6190e6b82614b719e9c7a36510cd5d6": {
          "model_module": "@jupyter-widgets/controls",
          "model_name": "ButtonModel",
          "model_module_version": "1.5.0",
          "state": {
            "_dom_classes": [],
            "_model_module": "@jupyter-widgets/controls",
            "_model_module_version": "1.5.0",
            "_model_name": "ButtonModel",
            "_view_count": null,
            "_view_module": "@jupyter-widgets/controls",
            "_view_module_version": "1.5.0",
            "_view_name": "ButtonView",
            "button_style": "",
            "description": "Dự đoán chủ đề",
            "disabled": false,
            "icon": "",
            "layout": "IPY_MODEL_13259bbbfa514d46b7bc961eb3bb2d44",
            "style": "IPY_MODEL_dfb5c0ef8c394296a4d26f54e9bb8463",
            "tooltip": ""
          }
        },
        "13259bbbfa514d46b7bc961eb3bb2d44": {
          "model_module": "@jupyter-widgets/base",
          "model_name": "LayoutModel",
          "model_module_version": "1.2.0",
          "state": {
            "_model_module": "@jupyter-widgets/base",
            "_model_module_version": "1.2.0",
            "_model_name": "LayoutModel",
            "_view_count": null,
            "_view_module": "@jupyter-widgets/base",
            "_view_module_version": "1.2.0",
            "_view_name": "LayoutView",
            "align_content": null,
            "align_items": null,
            "align_self": null,
            "border": null,
            "bottom": null,
            "display": null,
            "flex": null,
            "flex_flow": null,
            "grid_area": null,
            "grid_auto_columns": null,
            "grid_auto_flow": null,
            "grid_auto_rows": null,
            "grid_column": null,
            "grid_gap": null,
            "grid_row": null,
            "grid_template_areas": null,
            "grid_template_columns": null,
            "grid_template_rows": null,
            "height": null,
            "justify_content": null,
            "justify_items": null,
            "left": null,
            "margin": null,
            "max_height": null,
            "max_width": null,
            "min_height": null,
            "min_width": null,
            "object_fit": null,
            "object_position": null,
            "order": null,
            "overflow": null,
            "overflow_x": null,
            "overflow_y": null,
            "padding": null,
            "right": null,
            "top": null,
            "visibility": null,
            "width": null
          }
        },
        "dfb5c0ef8c394296a4d26f54e9bb8463": {
          "model_module": "@jupyter-widgets/controls",
          "model_name": "ButtonStyleModel",
          "model_module_version": "1.5.0",
          "state": {
            "_model_module": "@jupyter-widgets/controls",
            "_model_module_version": "1.5.0",
            "_model_name": "ButtonStyleModel",
            "_view_count": null,
            "_view_module": "@jupyter-widgets/base",
            "_view_module_version": "1.2.0",
            "_view_name": "StyleView",
            "button_color": null,
            "font_weight": ""
          }
        },
        "5e35abfa1cd641d59cf0d668f6aa8dc0": {
          "model_module": "@jupyter-widgets/output",
          "model_name": "OutputModel",
          "model_module_version": "1.0.0",
          "state": {
            "_dom_classes": [],
            "_model_module": "@jupyter-widgets/output",
            "_model_module_version": "1.0.0",
            "_model_name": "OutputModel",
            "_view_count": null,
            "_view_module": "@jupyter-widgets/output",
            "_view_module_version": "1.0.0",
            "_view_name": "OutputView",
            "layout": "IPY_MODEL_63cb7069c88144e7a4c19cb649bbbb18",
            "msg_id": "",
            "outputs": [
              {
                "output_type": "stream",
                "name": "stdout",
                "text": [
                  "→ Nhãn dự đoán: **Thể thao**\n"
                ]
              }
            ]
          }
        },
        "63cb7069c88144e7a4c19cb649bbbb18": {
          "model_module": "@jupyter-widgets/base",
          "model_name": "LayoutModel",
          "model_module_version": "1.2.0",
          "state": {
            "_model_module": "@jupyter-widgets/base",
            "_model_module_version": "1.2.0",
            "_model_name": "LayoutModel",
            "_view_count": null,
            "_view_module": "@jupyter-widgets/base",
            "_view_module_version": "1.2.0",
            "_view_name": "LayoutView",
            "align_content": null,
            "align_items": null,
            "align_self": null,
            "border": "1px solid gray",
            "bottom": null,
            "display": null,
            "flex": null,
            "flex_flow": null,
            "grid_area": null,
            "grid_auto_columns": null,
            "grid_auto_flow": null,
            "grid_auto_rows": null,
            "grid_column": null,
            "grid_gap": null,
            "grid_row": null,
            "grid_template_areas": null,
            "grid_template_columns": null,
            "grid_template_rows": null,
            "height": null,
            "justify_content": null,
            "justify_items": null,
            "left": null,
            "margin": null,
            "max_height": null,
            "max_width": null,
            "min_height": null,
            "min_width": null,
            "object_fit": null,
            "object_position": null,
            "order": null,
            "overflow": null,
            "overflow_x": null,
            "overflow_y": null,
            "padding": null,
            "right": null,
            "top": null,
            "visibility": null,
            "width": null
          }
        }
      }
    }
  },
  "cells": [
    {
      "cell_type": "markdown",
      "metadata": {
        "id": "view-in-github",
        "colab_type": "text"
      },
      "source": [
        "<a href=\"https://colab.research.google.com/github/Ptuancuong/NLP/blob/main/NLP.ipynb\" target=\"_parent\"><img src=\"https://colab.research.google.com/assets/colab-badge.svg\" alt=\"Open In Colab\"/></a>"
      ]
    },
    {
      "cell_type": "code",
      "source": [
        "# 1. CÀI ĐẶT THƯ VIỆN (chạy 1 lần trên Colab)\n",
        "!pip install -q pandas scikit-learn\n",
        "\n",
        "# 2. IMPORT\n",
        "import re\n",
        "import pandas as pd\n",
        "from sklearn.model_selection import train_test_split\n",
        "from sklearn.feature_extraction.text import TfidfVectorizer\n",
        "from sklearn.naive_bayes import MultinomialNB\n",
        "from sklearn.metrics import classification_report\n",
        "from sklearn.utils import resample\n",
        "\n",
        "\n",
        "# 3. LOAD DATA\n",
        "df = pd.read_csv('Fixed_news_dataset.csv', encoding='utf-8')\n",
        "print(\"Original:\", df.shape, \"labels:\", df['topic'].unique())\n",
        "\n",
        "# 4. MAPPING NHÃN THỦ CÔNG (6 lớp)\n",
        "mapping = {\n",
        "    # Thời sự\n",
        "    'Thời sự':'Thời sự','Chính trị':'Thời sự','Xã hội':'Thời sự',\n",
        "    'Pháp luật':'Thời sự','Quốc phòng':'Thời sự',\n",
        "    # Kinh doanh\n",
        "    'Kinh tế':'Kinh doanh','Kinh doanh - Tài chính':'Kinh doanh','Bất động sản':'Kinh doanh',\n",
        "    # Công nghệ\n",
        "    'Công nghệ':'Công nghệ',\n",
        "    # Thể thao\n",
        "    'Thể thao':'Thể thao',\n",
        "    # Giải trí\n",
        "    'Văn hóa - Giải trí':'Giải trí',\n",
        "    # Sức khỏe\n",
        "    'Sức khỏe - Đời sống':'Sức khỏe'\n",
        "}\n",
        "df = df[df['topic'].isin(mapping)].copy()\n",
        "df['topic'] = df['topic'].map(mapping)\n",
        "print(\"After mapping:\", df.shape)\n",
        "print(df['topic'].value_counts())\n",
        "\n",
        "# 5. SAMPLE stratified 20 000 mẫu\n",
        "df_small, _ = train_test_split(\n",
        "    df, train_size=20000, random_state=42, stratify=df['topic']\n",
        ")\n",
        "print(\"Sampled:\", df_small.shape)\n",
        "print(df_small['topic'].value_counts(normalize=True))\n",
        "\n",
        "# 6. CLEAN & WHITESPACE-TOKENIZE\n",
        "def clean(text):\n",
        "    text = str(text).lower()\n",
        "    text = re.sub(r'<[^>]+>', ' ', text)                       # loại HTML\n",
        "    text = re.sub(r'[^0-9a-zạáàảãạâấầẩẫậăắằẳẵặèéẻẽẹêếềểễệìíỉĩị'\n",
        "                  r'òóỏõọôồốổỗộơớờởỡợùúủũụưứừửữựỳýỷỹỵđ\\s]', ' ', text)\n",
        "    text = re.sub(r'\\s+', ' ', text).strip()\n",
        "    return text\n",
        "\n",
        "# 3. CLEAN & TOKENIZE (giữ lại whitespace-split như trước)\n",
        "df_small['clean']  = df_small['content'].apply(clean)\n",
        "df_small['tokens'] = df_small['clean'].str.split().apply(lambda toks: ' '.join(toks))\n",
        "\n",
        "# 4. VECTORIZE với bigram + 10k features\n",
        "vectorizer2 = TfidfVectorizer(max_features=10000, ngram_range=(1,2))\n",
        "X_all = vectorizer2.fit_transform(df_small['tokens'])\n",
        "y_all = df_small['topic']\n",
        "\n",
        "# 5. SPLIT TRAIN/TEST stratified\n",
        "X_tr, X_te, y_tr, y_te = train_test_split(\n",
        "    X_all, y_all, test_size=0.2, stratify=y_all, random_state=42\n",
        ")\n",
        "\n",
        "# 6. (TÙY CHỌN) OVERSAMPLE trên tập train để cân bằng mỗi lớp\n",
        "df_train = pd.DataFrame({'tokens': df_small.loc[y_tr.index,'tokens'], 'topic': y_tr.values})\n",
        "dfs = []\n",
        "max_n = df_train['topic'].value_counts().max()\n",
        "for label, grp in df_train.groupby('topic'):\n",
        "    dfs.append(resample(grp, replace=True, n_samples=max_n, random_state=42))\n",
        "df_train_bal = pd.concat(dfs)\n",
        "X_tr_bal = vectorizer2.transform(df_train_bal['tokens'])\n",
        "y_tr_bal = df_train_bal['topic']\n",
        "\n",
        "# 7. TRAIN Logistic Regression (cân bằng class_weight)\n",
        "lr2 = LogisticRegression(\n",
        "    solver='liblinear',\n",
        "    class_weight='balanced',\n",
        "    C=1.0,\n",
        "    max_iter=1000,\n",
        "    random_state=42\n",
        ")\n",
        "lr2.fit(X_tr_bal, y_tr_bal)\n",
        "\n",
        "# 8. EVAL trên tập test\n",
        "y_pred2 = lr2.predict(X_te)\n",
        "print(\"=== Logistic Regression (bigram + oversample) ===\")\n",
        "print(classification_report(y_te, y_pred2))\n",
        "\n",
        "# 9. CONFUSION MATRIX\n",
        "cm2 = confusion_matrix(y_te, y_pred2, labels=lr2.classes_)\n",
        "plt.figure(figsize=(6,6))\n",
        "plt.imshow(cm2, cmap='Blues')\n",
        "plt.title('Confusion Matrix (LR upgraded)')\n",
        "plt.ylabel('True Label'); plt.xlabel('Predicted Label')\n",
        "plt.xticks(range(len(lr2.classes_)), lr2.classes_, rotation=45)\n",
        "plt.yticks(range(len(lr2.classes_)), lr2.classes_)\n",
        "for i in range(cm2.shape[0]):\n",
        "    for j in range(cm2.shape[1]):\n",
        "        plt.text(j, i, cm2[i,j], ha='center', va='center')\n",
        "plt.tight_layout()\n",
        "plt.show()\n",
        "\n",
        "# 10. LƯU model & vectorizer mới\n",
        "joblib.dump(vectorizer2, 'tfidf_bigram_10k.pkl')\n",
        "joblib.dump(lr2, 'lr_bigram_model.pkl')\n"
      ],
      "metadata": {
        "colab": {
          "base_uri": "https://localhost:8080/",
          "height": 1000
        },
        "id": "3O945C4GlhTE",
        "outputId": "0b815cdf-db58-4e8d-e61e-c92a2d3e4a48"
      },
      "execution_count": 14,
      "outputs": [
        {
          "output_type": "stream",
          "name": "stdout",
          "text": [
            "Original: (184539, 12) labels: ['Pháp luật' 'Sức khỏe - Đời sống' 'Giáo dục' 'Thế giới' 'Thời sự'\n",
            " 'Văn hóa - Giải trí' 'Thể thao' 'Xã hội' 'Bất động sản' 'Công nghệ'\n",
            " 'Kinh tế' 'Kinh doanh - Tài chính' 'Bạn đọc' 'Chính trị' 'Quốc phòng'\n",
            " 'Xe' 'Pháp luật']\n",
            "After mapping: (152668, 12)\n",
            "topic\n",
            "Thời sự       49880\n",
            "Giải trí      32040\n",
            "Sức khỏe      25578\n",
            "Thể thao      22549\n",
            "Kinh doanh    18288\n",
            "Công nghệ      4333\n",
            "Name: count, dtype: int64\n",
            "Sampled: (20000, 12)\n",
            "topic\n",
            "Thời sự       0.32670\n",
            "Giải trí      0.20985\n",
            "Sức khỏe      0.16755\n",
            "Thể thao      0.14770\n",
            "Kinh doanh    0.11980\n",
            "Công nghệ     0.02840\n",
            "Name: proportion, dtype: float64\n",
            "=== Logistic Regression (bigram + oversample) ===\n",
            "              precision    recall  f1-score   support\n",
            "\n",
            "   Công nghệ       0.63      0.81      0.70       114\n",
            "    Giải trí       0.67      0.84      0.74       839\n",
            "  Kinh doanh       0.75      0.78      0.76       479\n",
            "    Sức khỏe       0.72      0.71      0.72       670\n",
            "    Thể thao       0.97      0.85      0.91       591\n",
            "     Thời sự       0.89      0.76      0.82      1307\n",
            "\n",
            "    accuracy                           0.79      4000\n",
            "   macro avg       0.77      0.79      0.78      4000\n",
            "weighted avg       0.80      0.79      0.79      4000\n",
            "\n"
          ]
        },
        {
          "output_type": "display_data",
          "data": {
            "text/plain": [
              "<Figure size 600x600 with 1 Axes>"
            ],
            "image/png": "[encoded data removed]"
          },
          "metadata": {}
        },
        {
          "output_type": "execute_result",
          "data": {
            "text/plain": [
              "['lr_bigram_model.pkl']"
            ]
          },
          "metadata": {},
          "execution_count": 14
        }
      ]
    },
    {
      "cell_type": "code",
      "source": [
        "# Định nghĩa lại hàm predict_topic\n",
        "def predict_topic(text):\n",
        "    # Dùng đúng hàm clean và vectorizer/model bạn đã train\n",
        "    txt = clean(text)                       # hàm clean đã định nghĩa trước\n",
        "    toks = ' '.join(txt.split())            # whitespace-tokenize\n",
        "    vec  = vectorizer2.transform([toks])    # vectorizer2 từ cell TF-IDF bigram\n",
        "    return lr2.predict(vec)[0]              # lr2 là model Logistic Regression nâng cấp\n"
      ],
      "metadata": {
        "id": "siVoeYjt4Ui2"
      },
      "execution_count": 17,
      "outputs": []
    },
    {
      "cell_type": "code",
      "source": [
        "import ipywidgets as widgets\n",
        "from IPython.display import display, clear_output\n",
        "\n",
        "inp = widgets.Textarea(\n",
        "    value='',\n",
        "    placeholder='Nhập văn bản để phân loại...',\n",
        "    description='Văn bản:',\n",
        "    layout=widgets.Layout(width='80%', height='100px')\n",
        ")\n",
        "btn = widgets.Button(description='Dự đoán chủ đề')\n",
        "out = widgets.Output(layout=widgets.Layout(border='1px solid gray'))\n",
        "\n",
        "def on_click(b):\n",
        "    with out:\n",
        "        clear_output()\n",
        "        text = inp.value.strip()\n",
        "        if text:\n",
        "            topic = predict_topic(text)\n",
        "            print(f\"→ Nhãn dự đoán: **{topic}**\")\n",
        "        else:\n",
        "            print(\"Hãy nhập một đoạn văn bản!\")\n",
        "\n",
        "btn.on_click(on_click)\n",
        "display(inp, btn, out)\n"
      ],
      "metadata": {
        "colab": {
          "base_uri": "https://localhost:8080/",
          "height": 172,
          "referenced_widgets": [
            "85cda20b951848fdb1acddd2793d9f67",
            "a1610a28c4cd4db1b98812acf4c8be0f",
            "9ced32953a084aba9a464caf05419267",
            "d6190e6b82614b719e9c7a36510cd5d6",
            "13259bbbfa514d46b7bc961eb3bb2d44",
            "dfb5c0ef8c394296a4d26f54e9bb8463",
            "5e35abfa1cd641d59cf0d668f6aa8dc0",
            "63cb7069c88144e7a4c19cb649bbbb18"
          ]
        },
        "id": "J0Fr9rH83huG",
        "outputId": "fbcf8be6-9feb-4153-b683-9b9e5beab351"
      },
      "execution_count": 18,
      "outputs": [
        {
          "output_type": "display_data",
          "data": {
            "text/plain": [
              "Textarea(value='', description='Văn bản:', layout=Layout(height='100px', width='80%'), placeholder='Nhập văn b…"
            ],
            "application/vnd.jupyter.widget-view+json": {
              "version_major": 2,
              "version_minor": 0,
              "model_id": "85cda20b951848fdb1acddd2793d9f67"
            }
          },
          "metadata": {}
        },
        {
          "output_type": "display_data",
          "data": {
            "text/plain": [
              "Button(description='Dự đoán chủ đề', style=ButtonStyle())"
            ],
            "application/vnd.jupyter.widget-view+json": {
              "version_major": 2,
              "version_minor": 0,
              "model_id": "d6190e6b82614b719e9c7a36510cd5d6"
            }
          },
          "metadata": {}
        },
        {
          "output_type": "display_data",
          "data": {
            "text/plain": [
              "Output(layout=Layout(border='1px solid gray'))"
            ],
            "application/vnd.jupyter.widget-view+json": {
              "version_major": 2,
              "version_minor": 0,
              "model_id": "5e35abfa1cd641d59cf0d668f6aa8dc0"
            }
          },
          "metadata": {}
        }
      ]
    }
  ]
}